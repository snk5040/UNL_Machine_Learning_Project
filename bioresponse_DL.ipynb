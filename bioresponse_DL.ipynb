{
 "cells": [
  {
   "cell_type": "code",
   "execution_count": 43,
   "metadata": {},
   "outputs": [],
   "source": [
    "import pandas as pd\n",
    "import numpy as np\n",
    "from sklearn.model_selection import train_test_split\n",
    "\n",
    "import tensorflow as tf\n",
    "from tensorflow.keras import datasets, layers, models\n",
    "\n",
    "from sklearn.metrics import log_loss"
   ]
  },
  {
   "cell_type": "code",
   "execution_count": 44,
   "metadata": {},
   "outputs": [
    {
     "name": "stdout",
     "output_type": "stream",
     "text": [
      "Shape of Input Data: (3000, 1776)\n",
      "Shape of Test Labels: (751,)\n"
     ]
    }
   ],
   "source": [
    "# Load training dataset\n",
    "df1 = pd.read_csv('./bioresponse/train.csv')\n",
    "#df1.head() # Visualize\n",
    "#df1['D1'].plot() # Visualize\n",
    "#df1['D2'].plot() # Visualize\n",
    "#df1.describe() # Visualize\n",
    "\n",
    "# Load testing dataset\n",
    "test = pd.read_csv('./bioresponse/test.csv')\n",
    "# test.describe() # Visualize\n",
    "\n",
    "# Separate labels from training dataset for fitting\n",
    "labels = df1['Activity']\n",
    "del df1['Activity']\n",
    "\n",
    "# Convert to numpy\n",
    "X = df1.to_numpy()\n",
    "y = labels.to_numpy()\n",
    "kaggle_test = test.to_numpy()\n",
    "\n",
    "# 80/20 train test split\n",
    "X_train, X_test, y_train, y_test = train_test_split( X, y, test_size=0.2)\n",
    "input_shape = X_train.shape\n",
    "print(\"Shape of Input Data: \" + str(input_shape))\n",
    "print(\"Shape of Test Labels: \" + str(y_test.shape))"
   ]
  },
  {
   "cell_type": "code",
   "execution_count": 45,
   "metadata": {},
   "outputs": [
    {
     "name": "stdout",
     "output_type": "stream",
     "text": [
      "Model: \"sequential_17\"\n",
      "_________________________________________________________________\n",
      " Layer (type)                Output Shape              Param #   \n",
      "=================================================================\n",
      " conv1d_23 (Conv1D)          (None, 3000, 2)           10658     \n",
      "                                                                 \n",
      " max_pooling1d_15 (MaxPooli  (None, 1500, 2)           0         \n",
      " ng1D)                                                           \n",
      "                                                                 \n",
      " conv1d_24 (Conv1D)          (None, 1500, 2)           14        \n",
      "                                                                 \n",
      " max_pooling1d_16 (MaxPooli  (None, 750, 2)            0         \n",
      " ng1D)                                                           \n",
      "                                                                 \n",
      " conv1d_25 (Conv1D)          (None, 750, 2)            14        \n",
      "                                                                 \n",
      " flatten_4 (Flatten)         (None, 1500)              0         \n",
      "                                                                 \n",
      " dense_5 (Dense)             (None, 64)                96064     \n",
      "                                                                 \n",
      " dense_6 (Dense)             (None, 2)                 130       \n",
      "                                                                 \n",
      "=================================================================\n",
      "Total params: 106880 (417.50 KB)\n",
      "Trainable params: 106880 (417.50 KB)\n",
      "Non-trainable params: 0 (0.00 Byte)\n",
      "_________________________________________________________________\n"
     ]
    }
   ],
   "source": [
    "model = models.Sequential()\n",
    "model.add(layers.Conv1D(2, 3, activation=\"relu\", padding = \"same\", input_shape=input_shape))\n",
    "model.add(layers.MaxPooling1D(2))\n",
    "model.add(layers.Conv1D(2, 3, activation=\"relu\", padding = \"same\"))\n",
    "model.add(layers.MaxPooling1D(2))\n",
    "model.add(layers.Conv1D(2, 3, activation=\"relu\", padding = \"same\"))\n",
    "model.add(layers.Flatten())\n",
    "model.add(layers.Dense(64, activation=\"relu\"))\n",
    "model.add(layers.Dense(2))\n",
    "model.summary()"
   ]
  },
  {
   "cell_type": "code",
   "execution_count": 1,
   "metadata": {},
   "outputs": [
    {
     "ename": "NameError",
     "evalue": "name 'model' is not defined",
     "output_type": "error",
     "traceback": [
      "\u001b[0;31m---------------------------------------------------------------------------\u001b[0m",
      "\u001b[0;31mNameError\u001b[0m                                 Traceback (most recent call last)",
      "\u001b[1;32m/Users/sebastiankyllmann/Programming/GitHub/UNL_Machine_Learning_Project/bioresponse_DL.ipynb Cell 4\u001b[0m line \u001b[0;36m1\n\u001b[0;32m----> <a href='vscode-notebook-cell:/Users/sebastiankyllmann/Programming/GitHub/UNL_Machine_Learning_Project/bioresponse_DL.ipynb#W3sZmlsZQ%3D%3D?line=0'>1</a>\u001b[0m model\u001b[39m.\u001b[39mcompile(\n\u001b[1;32m      <a href='vscode-notebook-cell:/Users/sebastiankyllmann/Programming/GitHub/UNL_Machine_Learning_Project/bioresponse_DL.ipynb#W3sZmlsZQ%3D%3D?line=1'>2</a>\u001b[0m     optimizer\u001b[39m=\u001b[39m\u001b[39m\"\u001b[39m\u001b[39madam\u001b[39m\u001b[39m\"\u001b[39m,\n\u001b[1;32m      <a href='vscode-notebook-cell:/Users/sebastiankyllmann/Programming/GitHub/UNL_Machine_Learning_Project/bioresponse_DL.ipynb#W3sZmlsZQ%3D%3D?line=2'>3</a>\u001b[0m     loss\u001b[39m=\u001b[39mtf\u001b[39m.\u001b[39mkeras\u001b[39m.\u001b[39mlosses\u001b[39m.\u001b[39mSparseCategoricalCrossentropy(from_logits\u001b[39m=\u001b[39m\u001b[39mTrue\u001b[39;00m),\n\u001b[1;32m      <a href='vscode-notebook-cell:/Users/sebastiankyllmann/Programming/GitHub/UNL_Machine_Learning_Project/bioresponse_DL.ipynb#W3sZmlsZQ%3D%3D?line=3'>4</a>\u001b[0m     metrics\u001b[39m=\u001b[39m[\u001b[39m\"\u001b[39m\u001b[39maccuracy\u001b[39m\u001b[39m\"\u001b[39m],\n\u001b[1;32m      <a href='vscode-notebook-cell:/Users/sebastiankyllmann/Programming/GitHub/UNL_Machine_Learning_Project/bioresponse_DL.ipynb#W3sZmlsZQ%3D%3D?line=4'>5</a>\u001b[0m )\n\u001b[1;32m      <a href='vscode-notebook-cell:/Users/sebastiankyllmann/Programming/GitHub/UNL_Machine_Learning_Project/bioresponse_DL.ipynb#W3sZmlsZQ%3D%3D?line=6'>7</a>\u001b[0m history \u001b[39m=\u001b[39m model\u001b[39m.\u001b[39mfit(\n\u001b[1;32m      <a href='vscode-notebook-cell:/Users/sebastiankyllmann/Programming/GitHub/UNL_Machine_Learning_Project/bioresponse_DL.ipynb#W3sZmlsZQ%3D%3D?line=7'>8</a>\u001b[0m     X_train, y_train, epochs\u001b[39m=\u001b[39m\u001b[39m10\u001b[39m, validation_data\u001b[39m=\u001b[39m(X_test, y_test)\n\u001b[1;32m      <a href='vscode-notebook-cell:/Users/sebastiankyllmann/Programming/GitHub/UNL_Machine_Learning_Project/bioresponse_DL.ipynb#W3sZmlsZQ%3D%3D?line=8'>9</a>\u001b[0m )\n",
      "\u001b[0;31mNameError\u001b[0m: name 'model' is not defined"
     ]
    }
   ],
   "source": [
    "model.compile(\n",
    "    optimizer=\"adam\",\n",
    "    loss=tf.keras.losses.SparseCategoricalCrossentropy(from_logits=True),\n",
    "    metrics=[\"accuracy\"],\n",
    ")\n",
    "\n",
    "history = model.fit(\n",
    "    X_train, y_train, epochs=10, validation_data=(X_test, y_test)\n",
    ")"
   ]
  }
 ],
 "metadata": {
  "kernelspec": {
   "display_name": "Python 3",
   "language": "python",
   "name": "python3"
  },
  "language_info": {
   "codemirror_mode": {
    "name": "ipython",
    "version": 3
   },
   "file_extension": ".py",
   "mimetype": "text/x-python",
   "name": "python",
   "nbconvert_exporter": "python",
   "pygments_lexer": "ipython3",
   "version": "3.10.4"
  }
 },
 "nbformat": 4,
 "nbformat_minor": 2
}
