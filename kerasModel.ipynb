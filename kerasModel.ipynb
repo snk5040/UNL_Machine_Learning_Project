{
 "cells": [
  {
   "cell_type": "code",
   "execution_count": 27,
   "metadata": {},
   "outputs": [],
   "source": [
    "import pandas as pd\n",
    "from sklearn.model_selection import train_test_split\n",
    "import tensorflow as tf\n",
    "from tensorflow.keras import layers, models\n",
    "import tensorflow.keras\n",
    "import autokeras as ak\n",
    "import keras\n",
    "import numpy as np"
   ]
  },
  {
   "cell_type": "code",
   "execution_count": 28,
   "metadata": {},
   "outputs": [
    {
     "name": "stdout",
     "output_type": "stream",
     "text": [
      "Shape of Input Data: (3000, 1776)\n",
      "Shape of Test Labels: (751,)\n"
     ]
    }
   ],
   "source": [
    "# Load training dataset\n",
    "df1 = pd.read_csv('./bioresponse/train.csv')\n",
    "#df1.describe() # Visualize\n",
    "\n",
    "# Load testing dataset\n",
    "kaggle_test = pd.read_csv('./bioresponse/test.csv')\n",
    "# test.describe() # Visualize\n",
    "\n",
    "# Separate labels from training dataset for fitting\n",
    "labels = df1['Activity']\n",
    "del df1['Activity']\n",
    "\n",
    "# 80/20 train test split\n",
    "x_train, x_test, y_train, y_test = train_test_split(df1, labels, test_size=0.2)\n",
    "input_shape = x_train.shape\n",
    "print(\"Shape of Input Data: \" + str(input_shape))\n",
    "print(\"Shape of Test Labels: \" + str(y_test.shape))"
   ]
  },
  {
   "cell_type": "code",
   "execution_count": 34,
   "metadata": {},
   "outputs": [
    {
     "name": "stdout",
     "output_type": "stream",
     "text": [
      "Model: \"sequential_26\"\n",
      "_________________________________________________________________\n",
      " Layer (type)                Output Shape              Param #   \n",
      "=================================================================\n",
      " dense_34 (Dense)            (None, 128)               227456    \n",
      "                                                                 \n",
      " dense_35 (Dense)            (None, 64)                8256      \n",
      "                                                                 \n",
      " dense_36 (Dense)            (None, 1)                 65        \n",
      "                                                                 \n",
      "=================================================================\n",
      "Total params: 235777 (921.00 KB)\n",
      "Trainable params: 235777 (921.00 KB)\n",
      "Non-trainable params: 0 (0.00 Byte)\n",
      "_________________________________________________________________\n"
     ]
    }
   ],
   "source": [
    "model = models.Sequential()\n",
    "model.add(layers.Dense(128, input_dim=x_train.shape[1], activation='relu'))\n",
    "model.add(layers.Dense(64, activation='relu'))\n",
    "model.add(layers.Dense(1, activation='sigmoid'))\n",
    "model.summary()"
   ]
  },
  {
   "cell_type": "code",
   "execution_count": 35,
   "metadata": {},
   "outputs": [
    {
     "name": "stdout",
     "output_type": "stream",
     "text": [
      "Epoch 1/10\n",
      "94/94 [==============================] - 2s 11ms/step - loss: 0.6072 - accuracy: 0.6737 - val_loss: 0.5077 - val_accuracy: 0.7603\n",
      "Epoch 2/10\n",
      "94/94 [==============================] - 1s 9ms/step - loss: 0.4921 - accuracy: 0.7630 - val_loss: 0.4817 - val_accuracy: 0.7790\n",
      "Epoch 3/10\n",
      "94/94 [==============================] - 1s 9ms/step - loss: 0.4711 - accuracy: 0.7753 - val_loss: 0.4865 - val_accuracy: 0.7856\n",
      "Epoch 4/10\n",
      "94/94 [==============================] - 1s 8ms/step - loss: 0.4556 - accuracy: 0.7843 - val_loss: 0.5633 - val_accuracy: 0.7377\n",
      "Epoch 5/10\n",
      "94/94 [==============================] - 1s 8ms/step - loss: 0.4550 - accuracy: 0.7927 - val_loss: 0.4925 - val_accuracy: 0.7856\n",
      "Epoch 6/10\n",
      "94/94 [==============================] - 1s 8ms/step - loss: 0.4267 - accuracy: 0.8050 - val_loss: 0.5538 - val_accuracy: 0.7670\n",
      "Epoch 7/10\n",
      "94/94 [==============================] - 1s 7ms/step - loss: 0.4077 - accuracy: 0.8173 - val_loss: 0.4849 - val_accuracy: 0.8016\n",
      "Epoch 8/10\n",
      "94/94 [==============================] - 1s 7ms/step - loss: 0.4045 - accuracy: 0.8183 - val_loss: 0.5304 - val_accuracy: 0.7883\n",
      "Epoch 9/10\n",
      "94/94 [==============================] - 1s 6ms/step - loss: 0.4059 - accuracy: 0.8183 - val_loss: 0.5267 - val_accuracy: 0.7816\n",
      "Epoch 10/10\n",
      "94/94 [==============================] - 1s 7ms/step - loss: 0.4139 - accuracy: 0.8170 - val_loss: 0.7618 - val_accuracy: 0.7257\n"
     ]
    }
   ],
   "source": [
    "model.compile(\n",
    "    optimizer=\"adam\",\n",
    "    loss=tf.keras.losses.BinaryCrossentropy(),\n",
    "    metrics=[\"accuracy\"],\n",
    ")\n",
    "\n",
    "history = model.fit(\n",
    "    x_train, y_train, epochs=10, validation_data=(x_test, y_test)\n",
    ")"
   ]
  },
  {
   "cell_type": "code",
   "execution_count": 49,
   "metadata": {},
   "outputs": [
    {
     "name": "stdout",
     "output_type": "stream",
     "text": [
      "79/79 [==============================] - 0s 2ms/step\n",
      "[[0.999969  ]\n",
      " [0.9956514 ]\n",
      " [0.71711004]\n",
      " ...\n",
      " [0.99346477]\n",
      " [0.9642539 ]\n",
      " [0.8692305 ]]\n",
      "(2501, 1)\n"
     ]
    }
   ],
   "source": [
    "prob_output = model.predict(kaggle_test)\n",
    "print(prob_output)\n",
    "print(prob_output.shape)\n",
    "#arr = prob_output.reshape(1,2501)\n",
    "df = pd.DataFrame(data=prob_output, columns=['PredictedProbability'])\n",
    "df['MoleculeId'] = df.index + 1\n",
    "df.head()\n",
    "df.to_csv('submissionDL1.csv',index=False)"
   ]
  }
 ],
 "metadata": {
  "kernelspec": {
   "display_name": "Python 3",
   "language": "python",
   "name": "python3"
  },
  "language_info": {
   "codemirror_mode": {
    "name": "ipython",
    "version": 3
   },
   "file_extension": ".py",
   "mimetype": "text/x-python",
   "name": "python",
   "nbconvert_exporter": "python",
   "pygments_lexer": "ipython3",
   "version": "3.10.4"
  }
 },
 "nbformat": 4,
 "nbformat_minor": 2
}
