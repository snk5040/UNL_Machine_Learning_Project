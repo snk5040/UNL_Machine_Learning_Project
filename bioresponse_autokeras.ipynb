{
 "cells": [
  {
   "cell_type": "code",
   "execution_count": 21,
   "metadata": {},
   "outputs": [],
   "source": [
    "import pandas as pd\n",
    "from sklearn.model_selection import train_test_split\n",
    "import tensorflow as tf\n",
    "\n",
    "\n",
    "import autokeras as ak"
   ]
  },
  {
   "cell_type": "code",
   "execution_count": 22,
   "metadata": {},
   "outputs": [
    {
     "name": "stdout",
     "output_type": "stream",
     "text": [
      "Shape of Input Data: (3000, 1776)\n",
      "Shape of Test Labels: (751,)\n"
     ]
    }
   ],
   "source": [
    "# Load training dataset\n",
    "df1 = pd.read_csv('./bioresponse/train.csv')\n",
    "#df1.describe() # Visualize\n",
    "\n",
    "# Load testing dataset\n",
    "kaggle_test = pd.read_csv('./bioresponse/test.csv')\n",
    "# test.describe() # Visualize\n",
    "\n",
    "# Separate labels from training dataset for fitting\n",
    "labels = df1['Activity']\n",
    "del df1['Activity']\n",
    "\n",
    "# 80/20 train test split\n",
    "x_train, x_test, y_train, y_test = train_test_split(df1, labels, test_size=0.2)\n",
    "input_shape = x_train.shape\n",
    "print(\"Shape of Input Data: \" + str(input_shape))\n",
    "print(\"Shape of Test Labels: \" + str(y_test.shape))"
   ]
  },
  {
   "cell_type": "code",
   "execution_count": 23,
   "metadata": {},
   "outputs": [],
   "source": [
    "# It tries 10 different models.\n",
    "clf = ak.StructuredDataClassifier(overwrite=True, max_trials=3)\n",
    "# Feed the structured data classifier with training data.\n",
    "clf.fit(x_train, y_train, epochs=10)\n",
    "# Predict with the best model.\n",
    "predicted_y = clf.predict(x_test)\n",
    "# Evaluate the best model with testing data.\n",
    "print(clf.evaluate(x_test, y_test))"
   ]
  },
  {
   "cell_type": "code",
   "execution_count": 3,
   "metadata": {},
   "outputs": [
    {
     "ename": "NameError",
     "evalue": "name 'clf' is not defined",
     "output_type": "error",
     "traceback": [
      "\u001b[0;31m---------------------------------------------------------------------------\u001b[0m",
      "\u001b[0;31mNameError\u001b[0m                                 Traceback (most recent call last)",
      "\u001b[1;32m/Users/sebastiankyllmann/Programming/GitHub/UNL_Machine_Learning_Project/bioresponse_autokeras.ipynb Cell 4\u001b[0m line \u001b[0;36m1\n\u001b[0;32m----> <a href='vscode-notebook-cell:/Users/sebastiankyllmann/Programming/GitHub/UNL_Machine_Learning_Project/bioresponse_autokeras.ipynb#W4sZmlsZQ%3D%3D?line=0'>1</a>\u001b[0m model \u001b[39m=\u001b[39m clf\u001b[39m.\u001b[39mexport_model()\n\u001b[1;32m      <a href='vscode-notebook-cell:/Users/sebastiankyllmann/Programming/GitHub/UNL_Machine_Learning_Project/bioresponse_autokeras.ipynb#W4sZmlsZQ%3D%3D?line=1'>2</a>\u001b[0m model\u001b[39m.\u001b[39msummary()\n",
      "\u001b[0;31mNameError\u001b[0m: name 'clf' is not defined"
     ]
    }
   ],
   "source": [
    "model = clf.export_model()\n",
    "model.summary()"
   ]
  },
  {
   "cell_type": "code",
   "execution_count": 2,
   "metadata": {},
   "outputs": [
    {
     "ename": "NameError",
     "evalue": "name 'model' is not defined",
     "output_type": "error",
     "traceback": [
      "\u001b[0;31m---------------------------------------------------------------------------\u001b[0m",
      "\u001b[0;31mNameError\u001b[0m                                 Traceback (most recent call last)",
      "\u001b[1;32m/Users/sebastiankyllmann/Programming/GitHub/UNL_Machine_Learning_Project/bioresponse_autokeras.ipynb Cell 5\u001b[0m line \u001b[0;36m9\n\u001b[1;32m      <a href='vscode-notebook-cell:/Users/sebastiankyllmann/Programming/GitHub/UNL_Machine_Learning_Project/bioresponse_autokeras.ipynb#W5sZmlsZQ%3D%3D?line=0'>1</a>\u001b[0m \u001b[39m'''\u001b[39;00m\n\u001b[1;32m      <a href='vscode-notebook-cell:/Users/sebastiankyllmann/Programming/GitHub/UNL_Machine_Learning_Project/bioresponse_autokeras.ipynb#W5sZmlsZQ%3D%3D?line=1'>2</a>\u001b[0m \u001b[39mmodel.compile(\u001b[39;00m\n\u001b[1;32m      <a href='vscode-notebook-cell:/Users/sebastiankyllmann/Programming/GitHub/UNL_Machine_Learning_Project/bioresponse_autokeras.ipynb#W5sZmlsZQ%3D%3D?line=2'>3</a>\u001b[0m \u001b[39m    optimizer=\"adam\",\u001b[39;00m\n\u001b[0;32m   (...)\u001b[0m\n\u001b[1;32m      <a href='vscode-notebook-cell:/Users/sebastiankyllmann/Programming/GitHub/UNL_Machine_Learning_Project/bioresponse_autokeras.ipynb#W5sZmlsZQ%3D%3D?line=5'>6</a>\u001b[0m \u001b[39m)\u001b[39;00m\n\u001b[1;32m      <a href='vscode-notebook-cell:/Users/sebastiankyllmann/Programming/GitHub/UNL_Machine_Learning_Project/bioresponse_autokeras.ipynb#W5sZmlsZQ%3D%3D?line=6'>7</a>\u001b[0m \u001b[39m'''\u001b[39;00m\n\u001b[0;32m----> <a href='vscode-notebook-cell:/Users/sebastiankyllmann/Programming/GitHub/UNL_Machine_Learning_Project/bioresponse_autokeras.ipynb#W5sZmlsZQ%3D%3D?line=8'>9</a>\u001b[0m model\u001b[39m.\u001b[39mcompile(\n\u001b[1;32m     <a href='vscode-notebook-cell:/Users/sebastiankyllmann/Programming/GitHub/UNL_Machine_Learning_Project/bioresponse_autokeras.ipynb#W5sZmlsZQ%3D%3D?line=9'>10</a>\u001b[0m     optimizer\u001b[39m=\u001b[39m\u001b[39m\"\u001b[39m\u001b[39madam\u001b[39m\u001b[39m\"\u001b[39m,\n\u001b[1;32m     <a href='vscode-notebook-cell:/Users/sebastiankyllmann/Programming/GitHub/UNL_Machine_Learning_Project/bioresponse_autokeras.ipynb#W5sZmlsZQ%3D%3D?line=10'>11</a>\u001b[0m     loss\u001b[39m=\u001b[39mtf\u001b[39m.\u001b[39mkeras\u001b[39m.\u001b[39mlosses\u001b[39m.\u001b[39mCategoricalCrossentropy(),\n\u001b[1;32m     <a href='vscode-notebook-cell:/Users/sebastiankyllmann/Programming/GitHub/UNL_Machine_Learning_Project/bioresponse_autokeras.ipynb#W5sZmlsZQ%3D%3D?line=11'>12</a>\u001b[0m     metrics\u001b[39m=\u001b[39m[\u001b[39m\"\u001b[39m\u001b[39maccuracy\u001b[39m\u001b[39m\"\u001b[39m],\n\u001b[1;32m     <a href='vscode-notebook-cell:/Users/sebastiankyllmann/Programming/GitHub/UNL_Machine_Learning_Project/bioresponse_autokeras.ipynb#W5sZmlsZQ%3D%3D?line=12'>13</a>\u001b[0m )\n\u001b[1;32m     <a href='vscode-notebook-cell:/Users/sebastiankyllmann/Programming/GitHub/UNL_Machine_Learning_Project/bioresponse_autokeras.ipynb#W5sZmlsZQ%3D%3D?line=14'>15</a>\u001b[0m history \u001b[39m=\u001b[39m model\u001b[39m.\u001b[39mfit(\n\u001b[1;32m     <a href='vscode-notebook-cell:/Users/sebastiankyllmann/Programming/GitHub/UNL_Machine_Learning_Project/bioresponse_autokeras.ipynb#W5sZmlsZQ%3D%3D?line=15'>16</a>\u001b[0m     x_train, y_train, epochs\u001b[39m=\u001b[39m\u001b[39m10\u001b[39m, validation_data\u001b[39m=\u001b[39m(x_test, y_test)\n\u001b[1;32m     <a href='vscode-notebook-cell:/Users/sebastiankyllmann/Programming/GitHub/UNL_Machine_Learning_Project/bioresponse_autokeras.ipynb#W5sZmlsZQ%3D%3D?line=16'>17</a>\u001b[0m )\n",
      "\u001b[0;31mNameError\u001b[0m: name 'model' is not defined"
     ]
    }
   ],
   "source": [
    "'''\n",
    "model.compile(\n",
    "    optimizer=\"adam\",\n",
    "    loss=tf.keras.losses.SparseCategoricalCrossentropy(from_logits=True),\n",
    "    metrics=[\"accuracy\"],\n",
    ")\n",
    "'''\n",
    "\n",
    "model.compile(\n",
    "    optimizer=\"adam\",\n",
    "    loss=tf.keras.losses.CategoricalCrossentropy(),\n",
    "    metrics=[\"accuracy\"],\n",
    ")\n",
    "\n",
    "history = model.fit(\n",
    "    x_train, y_train, epochs=10, validation_data=(x_test, y_test)\n",
    ")"
   ]
  },
  {
   "cell_type": "code",
   "execution_count": null,
   "metadata": {},
   "outputs": [
    {
     "name": "stdout",
     "output_type": "stream",
     "text": [
      "79/79 [==============================] - 35s 401ms/step\n"
     ]
    }
   ],
   "source": [
    "predictions = model.predict(kaggle_test)"
   ]
  },
  {
   "cell_type": "code",
   "execution_count": null,
   "metadata": {},
   "outputs": [
    {
     "name": "stdout",
     "output_type": "stream",
     "text": [
      "[[0.]\n",
      " [0.]\n",
      " [1.]\n",
      " ...\n",
      " [1.]\n",
      " [1.]\n",
      " [0.]]\n"
     ]
    }
   ],
   "source": [
    "print(predictions)"
   ]
  },
  {
   "cell_type": "code",
   "execution_count": null,
   "metadata": {},
   "outputs": [
    {
     "name": "stdout",
     "output_type": "stream",
     "text": [
      "79/79 [==============================] - 434s 5s/step\n"
     ]
    }
   ],
   "source": [
    "from tensorflow.keras.models import Model\n",
    "\n",
    "# Create a new model for inference, which includes all layers except the final classification layer\n",
    "inference_model = Model(inputs=model.input, outputs=model.layers[-2].output)\n",
    "\n",
    "# Use the inference model to get the output\n",
    "probability_output = inference_model.predict(kaggle_test)"
   ]
  },
  {
   "cell_type": "code",
   "execution_count": null,
   "metadata": {},
   "outputs": [
    {
     "name": "stdout",
     "output_type": "stream",
     "text": [
      "[[-151633.92 ]\n",
      " [ -26039.305]\n",
      " [  25842.66 ]\n",
      " ...\n",
      " [  15265.049]\n",
      " [  20277.648]\n",
      " [ -18690.914]]\n"
     ]
    }
   ],
   "source": [
    "print(probability_output)"
   ]
  }
 ],
 "metadata": {
  "kernelspec": {
   "display_name": "Python 3",
   "language": "python",
   "name": "python3"
  },
  "language_info": {
   "codemirror_mode": {
    "name": "ipython",
    "version": 3
   },
   "file_extension": ".py",
   "mimetype": "text/x-python",
   "name": "python",
   "nbconvert_exporter": "python",
   "pygments_lexer": "ipython3",
   "version": "3.10.4"
  }
 },
 "nbformat": 4,
 "nbformat_minor": 2
}
