{
 "cells": [
  {
   "cell_type": "code",
   "execution_count": 1,
   "metadata": {},
   "outputs": [],
   "source": [
    "# importing necessary libraries\n",
    "# Didarul\n",
    "import matplotlib.pyplot as plt\n",
    "import numpy as np\n",
    "import Orange\n",
    "import pandas as pd\n",
    "from graphviz import Digraph\n",
    "from Orange.preprocess import Impute\n",
    "from pandas_profiling import ProfileReport\n",
    "\n",
    "\n",
    "plt.style.use(\"ggplot\")\n",
    "# Load training dataset\n",
    "dfm = pd.read_csv('train.csv')\n",
    "# dfm.describe() # Visualize\n",
    "\n",
    "# Load testing dataset\n",
    "tst = pd.read_csv('test.csv')\n",
    "# test.describe() # Visualize\n",
    "\n",
    "bm = pd.read_csv('svm_benchmark.csv')\n",
    "p_svmbm = bm['Pred_bm']\n",
    "# Separate labels from training dataset for fitting\n",
    "labels = dfm['Activity']\n",
    "del dfm['Activity']\n",
    "\n",
    "\n",
    "bench = np.array(p_svmbm)"
   ]
  },
  {
   "cell_type": "code",
   "execution_count": 2,
   "metadata": {},
   "outputs": [
    {
     "data": {
      "text/plain": [
       "array([1, 1, 0, ..., 1, 1, 0])"
      ]
     },
     "execution_count": 2,
     "metadata": {},
     "output_type": "execute_result"
    }
   ],
   "source": [
    "### SVM\n",
    "# https://scikit-learn.org/stable/modules/svm.html\n",
    "# Didarul\n",
    "from sklearn import svm\n",
    "\n",
    "sss = svm.SVC()\n",
    "sss.fit(dfm, labels)\n",
    "\n",
    "pred_svm = np.array(sss.predict(tst))\n",
    "\n",
    "pred_svm"
   ]
  },
  {
   "cell_type": "code",
   "execution_count": 4,
   "metadata": {},
   "outputs": [
    {
     "name": "stdout",
     "output_type": "stream",
     "text": [
      "TP: 1299 TN: 917 FP: 181 FN: 104 Precision: 0.8777027027027027 Recall: 0.9258731290092659 F1: 0.9011446409989594 Acc: 0.8860455817672931 Spe: 0.8351548269581056\n"
     ]
    }
   ],
   "source": [
    "# performance analysis of SVM with respect to the benchmark\n",
    "# Didarul\n",
    "tp=0\n",
    "tn=0\n",
    "fp=0\n",
    "fn=0\n",
    "\n",
    "\n",
    "for i in range(len(bench)):\n",
    "    if ((bench[i]==1)&(pred_svm[i]==1)):\n",
    "        tp=tp+1\n",
    "    elif ((bench[i]==0)&(pred_svm[i]==0)):\n",
    "        tn=tn+1\n",
    "    elif ((bench[i]==0)&(pred_svm[i]==1)):\n",
    "        fp=fp+1\n",
    "    else:\n",
    "        fn=fn+1\n",
    "            \n",
    "### print(tp,tn,fp,fn)\n",
    "pr = tp/(tp+fp)\n",
    "rc = tp/(tp+fn)\n",
    "f1 = (2*pr*rc)/(pr+rc)\n",
    "ca = (tp+tn)/(tp+tn+fp+fn)\n",
    "sp=tn/(tn+fp)\n",
    "\n",
    "print('TP:',tp,'TN:',tn,'FP:',fp,'FN:',fn,'Precision:', pr, 'Recall:', rc, 'F1:', f1, 'Acc:', ca, 'Spe:', sp)"
   ]
  },
  {
   "cell_type": "code",
   "execution_count": 5,
   "metadata": {},
   "outputs": [
    {
     "data": {
      "image/png": "[encoded data removed]",
      "text/plain": [
       "<Figure size 432x288 with 2 Axes>"
      ]
     },
     "metadata": {},
     "output_type": "display_data"
    }
   ],
   "source": [
    "# Didarul\n",
    "from sklearn.metrics import ConfusionMatrixDisplay, confusion_matrix\n",
    "\n",
    "cm=confusion_matrix(bench, pred_svm)\n",
    "cm\n",
    "\n",
    "disp = ConfusionMatrixDisplay(confusion_matrix=cm)\n",
    "\n",
    "disp.plot()\n",
    "plt.grid(False)\n",
    "plt.show()"
   ]
  },
  {
   "cell_type": "code",
   "execution_count": 6,
   "metadata": {},
   "outputs": [
    {
     "data": {
      "text/plain": [
       "array([1, 1, 0, ..., 1, 1, 1])"
      ]
     },
     "execution_count": 6,
     "metadata": {},
     "output_type": "execute_result"
    }
   ],
   "source": [
    "### Linear Regression: Sebastian\n",
    "\n",
    "import pandas as pd\n",
    "import sklearn.linear_model\n",
    "from sklearn.model_selection import train_test_split\n",
    "import matplotlib.pyplot as plt\n",
    "from sklearn.metrics import log_loss, accuracy_score, confusion_matrix\n",
    "import seaborn as sns\n",
    "import matplotlib.pyplot as plt \n",
    "\n",
    "\n",
    "# Load training dataset\n",
    "df1 = pd.read_csv('train.csv')\n",
    "#df1.head() # Visualize\n",
    "#df1['D1'].plot() # Visualize\n",
    "#df1['D2'].plot() # Visualize\n",
    "df1.describe() # Visualize\n",
    "\n",
    "# Load testing dataset\n",
    "test = pd.read_csv('test.csv')\n",
    "# test.describe() # Visualize\n",
    "\n",
    "# Separate labels from training dataset for fitting\n",
    "labels = df1['Activity']\n",
    "del df1['Activity']\n",
    "\n",
    "\n",
    "# Fit a Logistic regression classifier\n",
    "clf = sklearn.linear_model.LogisticRegression(max_iter=1000)\n",
    "clf.fit(df1, labels)\n",
    "\n",
    "pred_lr = np.array(clf.predict(tst))\n",
    "\n",
    "pred_lr"
   ]
  },
  {
   "cell_type": "code",
   "execution_count": 7,
   "metadata": {},
   "outputs": [
    {
     "name": "stdout",
     "output_type": "stream",
     "text": [
      "TP: 1208 TN: 870 FP: 228 FN: 195 Precision: 0.841225626740947 Recall: 0.8610121168923734 F1: 0.8510038746037337 Acc: 0.8308676529388245 Spe: 0.7923497267759563\n"
     ]
    }
   ],
   "source": [
    "### Comparison of LR (model 1) and SVM (model 2)\n",
    "# Didarul\n",
    "tp=0\n",
    "tn=0\n",
    "fp=0\n",
    "fn=0\n",
    "\n",
    "for i in range(len(bench)):\n",
    "    if ((bench[i]==1)&(pred_lr[i]==1)):\n",
    "        tp=tp+1\n",
    "    elif ((bench[i]==0)&(pred_lr[i]==0)):\n",
    "        tn=tn+1\n",
    "    elif ((bench[i]==0)&(pred_lr[i]==1)):\n",
    "        fp=fp+1\n",
    "    else:\n",
    "        fn=fn+1\n",
    "            \n",
    "###print(tp,tn,fp,fn)\n",
    "pr = tp/(tp+fp)\n",
    "rc = tp/(tp+fn)\n",
    "f1 = (2*pr*rc)/(pr+rc)\n",
    "ca = (tp+tn)/(tp+tn+fp+fn)\n",
    "sp=tn/(tn+fp)\n",
    "\n",
    "print('TP:',tp,'TN:',tn,'FP:',fp,'FN:',fn,'Precision:', pr, 'Recall:', rc, 'F1:', f1, 'Acc:', ca, 'Spe:', sp)"
   ]
  },
  {
   "cell_type": "code",
   "execution_count": 8,
   "metadata": {},
   "outputs": [
    {
     "data": {
      "image/png": "[encoded data removed]",
      "text/plain": [
       "<Figure size 432x288 with 2 Axes>"
      ]
     },
     "metadata": {},
     "output_type": "display_data"
    }
   ],
   "source": [
    "# Didarul\n",
    "cm1=confusion_matrix(bench, pred_lr)\n",
    "cm1\n",
    "\n",
    "disp = ConfusionMatrixDisplay(confusion_matrix=cm1)\n",
    "\n",
    "disp.plot()\n",
    "plt.grid(False)\n",
    "plt.show()"
   ]
  }
 ],
 "metadata": {
  "kernelspec": {
   "display_name": "Python CSE478",
   "language": "python",
   "name": "cse478-hw"
  },
  "language_info": {
   "codemirror_mode": {
    "name": "ipython",
    "version": 3
   },
   "file_extension": ".py",
   "mimetype": "text/x-python",
   "name": "python",
   "nbconvert_exporter": "python",
   "pygments_lexer": "ipython3",
   "version": "3.8.10"
  }
 },
 "nbformat": 4,
 "nbformat_minor": 4
}
