{
 "cells": [
  {
   "cell_type": "code",
   "execution_count": 1,
   "metadata": {},
   "outputs": [
    {
     "name": "stdout",
     "output_type": "stream",
     "text": [
      "Using TensorFlow backend\n"
     ]
    }
   ],
   "source": [
    "import pandas as pd\n",
    "from sklearn.model_selection import train_test_split\n",
    "import tensorflow as tf\n",
    "import numpy as np\n",
    "\n",
    "\n",
    "import autokeras as ak"
   ]
  },
  {
   "cell_type": "code",
   "execution_count": 2,
   "metadata": {},
   "outputs": [
    {
     "name": "stdout",
     "output_type": "stream",
     "text": [
      "Shape of Input Data: (3000, 1776)\n",
      "Shape of Test Labels: (751,)\n"
     ]
    }
   ],
   "source": [
    "# Load training dataset\n",
    "df1 = pd.read_csv('./bioresponse/train.csv')\n",
    "#df1.describe() # Visualize\n",
    "\n",
    "# Load testing dataset\n",
    "kaggle_test = pd.read_csv('./bioresponse/test.csv')\n",
    "# test.describe() # Visualize\n",
    "\n",
    "# Separate labels from training dataset for fitting\n",
    "labels = df1['Activity']\n",
    "del df1['Activity']\n",
    "\n",
    "# 80/20 train test split\n",
    "x_train, x_test, y_train, y_test = train_test_split(df1, labels, test_size=0.2)\n",
    "input_shape = x_train.shape\n",
    "print(\"Shape of Input Data: \" + str(input_shape))\n",
    "print(\"Shape of Test Labels: \" + str(y_test.shape))"
   ]
  },
  {
   "cell_type": "code",
   "execution_count": 3,
   "metadata": {},
   "outputs": [
    {
     "name": "stdout",
     "output_type": "stream",
     "text": [
      "Trial 10 Complete [00h 17m 27s]\n",
      "val_accuracy: 0.7623239159584045\n",
      "\n",
      "Best val_accuracy So Far: 0.7940140962600708\n",
      "Total elapsed time: 01h 43m 29s\n",
      "Epoch 1/100\n",
      "94/94 [==============================] - 30s 51ms/step - loss: 0.7021 - accuracy: 0.6320\n",
      "Epoch 2/100\n",
      "94/94 [==============================] - 5s 51ms/step - loss: 0.5244 - accuracy: 0.7467\n",
      "Epoch 3/100\n",
      "94/94 [==============================] - 5s 50ms/step - loss: 0.4627 - accuracy: 0.7870\n",
      "Epoch 4/100\n",
      "94/94 [==============================] - 5s 50ms/step - loss: 0.4131 - accuracy: 0.8210\n",
      "Epoch 5/100\n",
      "94/94 [==============================] - 5s 51ms/step - loss: 0.3762 - accuracy: 0.8367\n",
      "Epoch 6/100\n",
      "94/94 [==============================] - 5s 51ms/step - loss: 0.3370 - accuracy: 0.8557\n",
      "Epoch 7/100\n",
      "94/94 [==============================] - 7s 71ms/step - loss: 0.3235 - accuracy: 0.8703\n",
      "Epoch 8/100\n",
      "94/94 [==============================] - 5s 51ms/step - loss: 0.2960 - accuracy: 0.8793\n",
      "Epoch 9/100\n",
      "94/94 [==============================] - 5s 50ms/step - loss: 0.2861 - accuracy: 0.8853\n",
      "Epoch 10/100\n",
      "94/94 [==============================] - 5s 51ms/step - loss: 0.2491 - accuracy: 0.8977\n",
      "Epoch 11/100\n",
      "94/94 [==============================] - 5s 50ms/step - loss: 0.2248 - accuracy: 0.9083\n",
      "Epoch 12/100\n",
      "94/94 [==============================] - 5s 51ms/step - loss: 0.2050 - accuracy: 0.9177\n",
      "Epoch 13/100\n",
      "94/94 [==============================] - 5s 50ms/step - loss: 0.2339 - accuracy: 0.9223\n",
      "Epoch 14/100\n",
      "94/94 [==============================] - 5s 51ms/step - loss: 0.1867 - accuracy: 0.9263\n",
      "Epoch 15/100\n",
      "94/94 [==============================] - 5s 51ms/step - loss: 0.1612 - accuracy: 0.9343\n",
      "Epoch 16/100\n",
      "94/94 [==============================] - 5s 51ms/step - loss: 0.1477 - accuracy: 0.9433\n",
      "Epoch 17/100\n",
      "94/94 [==============================] - 5s 50ms/step - loss: 0.1408 - accuracy: 0.9437\n",
      "Epoch 18/100\n",
      "94/94 [==============================] - 5s 50ms/step - loss: 0.1363 - accuracy: 0.9497\n",
      "Epoch 19/100\n",
      "94/94 [==============================] - 5s 50ms/step - loss: 0.1138 - accuracy: 0.9583\n",
      "Epoch 20/100\n",
      "94/94 [==============================] - 5s 52ms/step - loss: 0.1123 - accuracy: 0.9563\n",
      "Epoch 21/100\n",
      "94/94 [==============================] - 5s 50ms/step - loss: 0.1051 - accuracy: 0.9577\n",
      "Epoch 22/100\n",
      "94/94 [==============================] - 5s 51ms/step - loss: 0.1069 - accuracy: 0.9600\n",
      "Epoch 23/100\n",
      "94/94 [==============================] - 5s 51ms/step - loss: 0.1173 - accuracy: 0.9527\n",
      "Epoch 24/100\n",
      "94/94 [==============================] - 5s 50ms/step - loss: 0.1258 - accuracy: 0.9567\n",
      "Epoch 25/100\n",
      "94/94 [==============================] - 5s 51ms/step - loss: 0.1301 - accuracy: 0.9503\n",
      "Epoch 26/100\n",
      "94/94 [==============================] - 5s 49ms/step - loss: 0.1062 - accuracy: 0.9607\n",
      "Epoch 27/100\n",
      "94/94 [==============================] - 5s 51ms/step - loss: 0.0872 - accuracy: 0.9677\n",
      "Epoch 28/100\n",
      "94/94 [==============================] - 5s 50ms/step - loss: 0.1023 - accuracy: 0.9633\n",
      "Epoch 29/100\n",
      "94/94 [==============================] - 5s 51ms/step - loss: 0.1028 - accuracy: 0.9637\n",
      "Epoch 30/100\n",
      "94/94 [==============================] - 5s 51ms/step - loss: 0.0888 - accuracy: 0.9633\n",
      "Epoch 31/100\n",
      "94/94 [==============================] - 5s 51ms/step - loss: 0.0759 - accuracy: 0.9690\n",
      "Epoch 32/100\n",
      "94/94 [==============================] - 5s 50ms/step - loss: 0.0666 - accuracy: 0.9760\n",
      "Epoch 33/100\n",
      "94/94 [==============================] - 5s 51ms/step - loss: 0.0544 - accuracy: 0.9793\n",
      "Epoch 34/100\n",
      "94/94 [==============================] - 5s 51ms/step - loss: 0.0629 - accuracy: 0.9807\n",
      "Epoch 35/100\n",
      "94/94 [==============================] - 5s 51ms/step - loss: 0.0583 - accuracy: 0.9767\n",
      "Epoch 36/100\n",
      "94/94 [==============================] - 5s 50ms/step - loss: 0.0720 - accuracy: 0.9740\n",
      "Epoch 37/100\n",
      "94/94 [==============================] - 5s 51ms/step - loss: 0.0552 - accuracy: 0.9780\n",
      "Epoch 38/100\n",
      "94/94 [==============================] - 5s 50ms/step - loss: 0.0574 - accuracy: 0.9757\n",
      "Epoch 39/100\n",
      "94/94 [==============================] - 5s 52ms/step - loss: 0.0526 - accuracy: 0.9773\n",
      "Epoch 40/100\n",
      "94/94 [==============================] - 5s 51ms/step - loss: 0.0529 - accuracy: 0.9790\n",
      "Epoch 41/100\n",
      "94/94 [==============================] - 6s 68ms/step - loss: 0.0641 - accuracy: 0.9770\n",
      "Epoch 42/100\n",
      "94/94 [==============================] - 5s 51ms/step - loss: 0.0632 - accuracy: 0.9767\n",
      "Epoch 43/100\n",
      "94/94 [==============================] - 5s 50ms/step - loss: 0.0558 - accuracy: 0.9787\n",
      "Epoch 44/100\n",
      "94/94 [==============================] - 5s 50ms/step - loss: 0.0603 - accuracy: 0.9757\n",
      "Epoch 45/100\n",
      "94/94 [==============================] - 5s 51ms/step - loss: 0.0580 - accuracy: 0.9803\n",
      "Epoch 46/100\n",
      "94/94 [==============================] - 5s 51ms/step - loss: 0.0480 - accuracy: 0.9820\n",
      "Epoch 47/100\n",
      "94/94 [==============================] - 5s 51ms/step - loss: 0.0729 - accuracy: 0.9700\n",
      "Epoch 48/100\n",
      "94/94 [==============================] - 5s 50ms/step - loss: 0.0938 - accuracy: 0.9727\n",
      "Epoch 49/100\n",
      "94/94 [==============================] - 5s 51ms/step - loss: 0.0847 - accuracy: 0.9767\n",
      "Epoch 50/100\n",
      "94/94 [==============================] - 5s 51ms/step - loss: 0.0494 - accuracy: 0.9800\n",
      "Epoch 51/100\n",
      "94/94 [==============================] - 5s 50ms/step - loss: 0.0372 - accuracy: 0.9887\n",
      "Epoch 52/100\n",
      "94/94 [==============================] - 5s 51ms/step - loss: 0.0559 - accuracy: 0.9847\n",
      "Epoch 53/100\n",
      "94/94 [==============================] - 5s 50ms/step - loss: 0.0370 - accuracy: 0.9880\n",
      "Epoch 54/100\n",
      "94/94 [==============================] - 5s 50ms/step - loss: 0.0288 - accuracy: 0.9877\n",
      "Epoch 55/100\n",
      "94/94 [==============================] - 5s 50ms/step - loss: 0.0356 - accuracy: 0.9883\n",
      "Epoch 56/100\n",
      "94/94 [==============================] - 5s 51ms/step - loss: 0.0310 - accuracy: 0.9890\n",
      "Epoch 57/100\n",
      "94/94 [==============================] - 5s 54ms/step - loss: 0.0270 - accuracy: 0.9903\n",
      "Epoch 58/100\n",
      "94/94 [==============================] - 5s 52ms/step - loss: 0.0369 - accuracy: 0.9860\n",
      "Epoch 59/100\n",
      "94/94 [==============================] - 5s 51ms/step - loss: 0.0431 - accuracy: 0.9870\n",
      "Epoch 60/100\n",
      "94/94 [==============================] - 5s 54ms/step - loss: 0.0603 - accuracy: 0.9837\n",
      "Epoch 61/100\n",
      "94/94 [==============================] - 5s 52ms/step - loss: 0.0527 - accuracy: 0.9837\n",
      "Epoch 62/100\n",
      "94/94 [==============================] - 5s 52ms/step - loss: 0.0344 - accuracy: 0.9867\n",
      "Epoch 63/100\n",
      "94/94 [==============================] - 5s 53ms/step - loss: 0.0280 - accuracy: 0.9887\n",
      "Epoch 64/100\n",
      "94/94 [==============================] - 5s 55ms/step - loss: 0.0232 - accuracy: 0.9920\n",
      "Epoch 65/100\n",
      "94/94 [==============================] - 5s 54ms/step - loss: 0.0255 - accuracy: 0.9897\n",
      "Epoch 66/100\n",
      "94/94 [==============================] - 5s 52ms/step - loss: 0.0257 - accuracy: 0.9883\n",
      "Epoch 67/100\n",
      "94/94 [==============================] - 5s 53ms/step - loss: 0.0242 - accuracy: 0.9903\n",
      "Epoch 68/100\n",
      "94/94 [==============================] - 5s 53ms/step - loss: 0.0231 - accuracy: 0.9910\n",
      "Epoch 69/100\n",
      "94/94 [==============================] - 5s 53ms/step - loss: 0.0160 - accuracy: 0.9957\n",
      "Epoch 70/100\n",
      "94/94 [==============================] - 5s 51ms/step - loss: 0.0386 - accuracy: 0.9863\n",
      "Epoch 71/100\n",
      "94/94 [==============================] - 5s 51ms/step - loss: 0.0650 - accuracy: 0.9783\n",
      "Epoch 72/100\n",
      "94/94 [==============================] - 5s 50ms/step - loss: 0.0794 - accuracy: 0.9740\n",
      "Epoch 73/100\n",
      "94/94 [==============================] - 5s 50ms/step - loss: 0.1070 - accuracy: 0.9717\n",
      "Epoch 74/100\n",
      "94/94 [==============================] - 6s 66ms/step - loss: 0.0579 - accuracy: 0.9813\n",
      "Epoch 75/100\n",
      "94/94 [==============================] - 5s 50ms/step - loss: 0.0262 - accuracy: 0.9900\n",
      "Epoch 76/100\n",
      "94/94 [==============================] - 5s 50ms/step - loss: 0.0196 - accuracy: 0.9930\n",
      "Epoch 77/100\n",
      "94/94 [==============================] - 5s 52ms/step - loss: 0.0209 - accuracy: 0.9920\n",
      "Epoch 78/100\n",
      "94/94 [==============================] - 5s 50ms/step - loss: 0.0199 - accuracy: 0.9913\n",
      "Epoch 79/100\n",
      "94/94 [==============================] - 5s 50ms/step - loss: 0.0162 - accuracy: 0.9923\n",
      "Epoch 80/100\n",
      "94/94 [==============================] - 5s 51ms/step - loss: 0.0133 - accuracy: 0.9960\n",
      "Epoch 81/100\n",
      "94/94 [==============================] - 5s 51ms/step - loss: 0.0285 - accuracy: 0.9893\n",
      "Epoch 82/100\n",
      "94/94 [==============================] - 5s 51ms/step - loss: 0.0224 - accuracy: 0.9927\n",
      "Epoch 83/100\n",
      "94/94 [==============================] - 5s 54ms/step - loss: 0.0221 - accuracy: 0.9917\n",
      "Epoch 84/100\n",
      "94/94 [==============================] - 5s 51ms/step - loss: 0.0203 - accuracy: 0.9940\n",
      "Epoch 85/100\n",
      "94/94 [==============================] - 5s 51ms/step - loss: 0.0222 - accuracy: 0.9933\n",
      "Epoch 86/100\n",
      "94/94 [==============================] - 5s 50ms/step - loss: 0.0352 - accuracy: 0.9910\n",
      "Epoch 87/100\n",
      "94/94 [==============================] - 5s 50ms/step - loss: 0.0306 - accuracy: 0.9887\n",
      "Epoch 88/100\n",
      "94/94 [==============================] - 5s 51ms/step - loss: 0.0150 - accuracy: 0.9943\n",
      "Epoch 89/100\n",
      "94/94 [==============================] - 5s 52ms/step - loss: 0.0336 - accuracy: 0.9947\n",
      "Epoch 90/100\n",
      "94/94 [==============================] - 5s 51ms/step - loss: 0.0269 - accuracy: 0.9923\n",
      "Epoch 91/100\n",
      "94/94 [==============================] - 5s 50ms/step - loss: 0.0468 - accuracy: 0.9823\n",
      "Epoch 92/100\n",
      "94/94 [==============================] - 5s 50ms/step - loss: 0.0743 - accuracy: 0.9873\n",
      "Epoch 93/100\n",
      "94/94 [==============================] - 5s 50ms/step - loss: 0.0958 - accuracy: 0.9783\n",
      "Epoch 94/100\n",
      "94/94 [==============================] - 5s 51ms/step - loss: 0.0531 - accuracy: 0.9823\n",
      "Epoch 95/100\n",
      "94/94 [==============================] - 5s 51ms/step - loss: 0.0612 - accuracy: 0.9850\n",
      "Epoch 96/100\n",
      "94/94 [==============================] - 5s 52ms/step - loss: 0.0231 - accuracy: 0.9917\n",
      "Epoch 97/100\n",
      "94/94 [==============================] - 5s 53ms/step - loss: 0.0136 - accuracy: 0.9967\n",
      "Epoch 98/100\n",
      "94/94 [==============================] - 5s 53ms/step - loss: 0.0133 - accuracy: 0.9970\n",
      "Epoch 99/100\n",
      "94/94 [==============================] - 5s 50ms/step - loss: 0.0111 - accuracy: 0.9950\n",
      "Epoch 100/100\n",
      "94/94 [==============================] - 5s 51ms/step - loss: 0.0122 - accuracy: 0.9953\n",
      "INFO:tensorflow:Assets written to: .\\structured_data_classifier\\best_model\\assets\n"
     ]
    },
    {
     "name": "stderr",
     "output_type": "stream",
     "text": [
      "INFO:tensorflow:Assets written to: .\\structured_data_classifier\\best_model\\assets\n"
     ]
    },
    {
     "name": "stdout",
     "output_type": "stream",
     "text": [
      "24/24 [==============================] - 29s 118ms/step\n",
      "24/24 [==============================] - 2s 63ms/step\n",
      "24/24 [==============================] - 61s 302ms/step - loss: 3.2844 - accuracy: 0.7723\n",
      "[3.2844016551971436, 0.772303581237793]\n"
     ]
    }
   ],
   "source": [
    "# It tries 10 different models.\n",
    "clf = ak.StructuredDataClassifier(overwrite=True, max_trials=10)\n",
    "# Feed the structured data classifier with training data.\n",
    "clf.fit(x_train, y_train, epochs=100)\n",
    "# Predict with the best model.\n",
    "predicted_y = clf.predict(x_test)\n",
    "# Evaluate the best model with testing data.\n",
    "print(clf.evaluate(x_test, y_test))"
   ]
  },
  {
   "cell_type": "code",
   "execution_count": 4,
   "metadata": {},
   "outputs": [],
   "source": [
    "model = clf.export_model()\n",
    "model.summary()"
   ]
  },
  {
   "cell_type": "code",
   "execution_count": 2,
   "metadata": {},
   "outputs": [
    {
     "ename": "NameError",
     "evalue": "name 'model' is not defined",
     "output_type": "error",
     "traceback": [
      "\u001b[0;31m---------------------------------------------------------------------------\u001b[0m",
      "\u001b[0;31mNameError\u001b[0m                                 Traceback (most recent call last)",
      "\u001b[1;32m/Users/sebastiankyllmann/Programming/GitHub/UNL_Machine_Learning_Project/bioresponse_autokeras.ipynb Cell 5\u001b[0m line \u001b[0;36m9\n\u001b[1;32m      <a href='vscode-notebook-cell:/Users/sebastiankyllmann/Programming/GitHub/UNL_Machine_Learning_Project/bioresponse_autokeras.ipynb#W5sZmlsZQ%3D%3D?line=0'>1</a>\u001b[0m \u001b[39m'''\u001b[39;00m\n\u001b[1;32m      <a href='vscode-notebook-cell:/Users/sebastiankyllmann/Programming/GitHub/UNL_Machine_Learning_Project/bioresponse_autokeras.ipynb#W5sZmlsZQ%3D%3D?line=1'>2</a>\u001b[0m \u001b[39mmodel.compile(\u001b[39;00m\n\u001b[1;32m      <a href='vscode-notebook-cell:/Users/sebastiankyllmann/Programming/GitHub/UNL_Machine_Learning_Project/bioresponse_autokeras.ipynb#W5sZmlsZQ%3D%3D?line=2'>3</a>\u001b[0m \u001b[39m    optimizer=\"adam\",\u001b[39;00m\n\u001b[0;32m   (...)\u001b[0m\n\u001b[1;32m      <a href='vscode-notebook-cell:/Users/sebastiankyllmann/Programming/GitHub/UNL_Machine_Learning_Project/bioresponse_autokeras.ipynb#W5sZmlsZQ%3D%3D?line=5'>6</a>\u001b[0m \u001b[39m)\u001b[39;00m\n\u001b[1;32m      <a href='vscode-notebook-cell:/Users/sebastiankyllmann/Programming/GitHub/UNL_Machine_Learning_Project/bioresponse_autokeras.ipynb#W5sZmlsZQ%3D%3D?line=6'>7</a>\u001b[0m \u001b[39m'''\u001b[39;00m\n\u001b[0;32m----> <a href='vscode-notebook-cell:/Users/sebastiankyllmann/Programming/GitHub/UNL_Machine_Learning_Project/bioresponse_autokeras.ipynb#W5sZmlsZQ%3D%3D?line=8'>9</a>\u001b[0m model\u001b[39m.\u001b[39mcompile(\n\u001b[1;32m     <a href='vscode-notebook-cell:/Users/sebastiankyllmann/Programming/GitHub/UNL_Machine_Learning_Project/bioresponse_autokeras.ipynb#W5sZmlsZQ%3D%3D?line=9'>10</a>\u001b[0m     optimizer\u001b[39m=\u001b[39m\u001b[39m\"\u001b[39m\u001b[39madam\u001b[39m\u001b[39m\"\u001b[39m,\n\u001b[1;32m     <a href='vscode-notebook-cell:/Users/sebastiankyllmann/Programming/GitHub/UNL_Machine_Learning_Project/bioresponse_autokeras.ipynb#W5sZmlsZQ%3D%3D?line=10'>11</a>\u001b[0m     loss\u001b[39m=\u001b[39mtf\u001b[39m.\u001b[39mkeras\u001b[39m.\u001b[39mlosses\u001b[39m.\u001b[39mCategoricalCrossentropy(),\n\u001b[1;32m     <a href='vscode-notebook-cell:/Users/sebastiankyllmann/Programming/GitHub/UNL_Machine_Learning_Project/bioresponse_autokeras.ipynb#W5sZmlsZQ%3D%3D?line=11'>12</a>\u001b[0m     metrics\u001b[39m=\u001b[39m[\u001b[39m\"\u001b[39m\u001b[39maccuracy\u001b[39m\u001b[39m\"\u001b[39m],\n\u001b[1;32m     <a href='vscode-notebook-cell:/Users/sebastiankyllmann/Programming/GitHub/UNL_Machine_Learning_Project/bioresponse_autokeras.ipynb#W5sZmlsZQ%3D%3D?line=12'>13</a>\u001b[0m )\n\u001b[1;32m     <a href='vscode-notebook-cell:/Users/sebastiankyllmann/Programming/GitHub/UNL_Machine_Learning_Project/bioresponse_autokeras.ipynb#W5sZmlsZQ%3D%3D?line=14'>15</a>\u001b[0m history \u001b[39m=\u001b[39m model\u001b[39m.\u001b[39mfit(\n\u001b[1;32m     <a href='vscode-notebook-cell:/Users/sebastiankyllmann/Programming/GitHub/UNL_Machine_Learning_Project/bioresponse_autokeras.ipynb#W5sZmlsZQ%3D%3D?line=15'>16</a>\u001b[0m     x_train, y_train, epochs\u001b[39m=\u001b[39m\u001b[39m10\u001b[39m, validation_data\u001b[39m=\u001b[39m(x_test, y_test)\n\u001b[1;32m     <a href='vscode-notebook-cell:/Users/sebastiankyllmann/Programming/GitHub/UNL_Machine_Learning_Project/bioresponse_autokeras.ipynb#W5sZmlsZQ%3D%3D?line=16'>17</a>\u001b[0m )\n",
      "\u001b[0;31mNameError\u001b[0m: name 'model' is not defined"
     ]
    }
   ],
   "source": [
    "'''\n",
    "model.compile(\n",
    "    optimizer=\"adam\",\n",
    "    loss=tf.keras.losses.SparseCategoricalCrossentropy(from_logits=True),\n",
    "    metrics=[\"accuracy\"],\n",
    ")\n",
    "'''\n",
    "\n",
    "model.compile(\n",
    "    optimizer=\"adam\",\n",
    "    loss=tf.keras.losses.CategoricalCrossentropy(),\n",
    "    metrics=[\"accuracy\"],\n",
    ")\n",
    "\n",
    "history = model.fit(\n",
    "    x_train, y_train, epochs=10, validation_data=(x_test, y_test)\n",
    ")"
   ]
  },
  {
   "cell_type": "code",
   "execution_count": null,
   "metadata": {},
   "outputs": [
    {
     "name": "stdout",
     "output_type": "stream",
     "text": [
      "79/79 [==============================] - 35s 401ms/step\n"
     ]
    }
   ],
   "source": [
    "predictions = model.predict(kaggle_test)"
   ]
  },
  {
   "cell_type": "code",
   "execution_count": null,
   "metadata": {},
   "outputs": [
    {
     "name": "stdout",
     "output_type": "stream",
     "text": [
      "[[0.]\n",
      " [0.]\n",
      " [1.]\n",
      " ...\n",
      " [1.]\n",
      " [1.]\n",
      " [0.]]\n"
     ]
    }
   ],
   "source": [
    "print(predictions)"
   ]
  },
  {
   "cell_type": "code",
   "execution_count": null,
   "metadata": {},
   "outputs": [
    {
     "name": "stdout",
     "output_type": "stream",
     "text": [
      "79/79 [==============================] - 434s 5s/step\n"
     ]
    }
   ],
   "source": [
    "from tensorflow.keras.models import Model\n",
    "\n",
    "# Create a new model for inference, which includes all layers except the final classification layer\n",
    "inference_model = Model(inputs=model.input, outputs=model.layers[-2].output)\n",
    "\n",
    "# Use the inference model to get the output\n",
    "probability_output = inference_model.predict(kaggle_test)"
   ]
  },
  {
   "cell_type": "code",
   "execution_count": null,
   "metadata": {},
   "outputs": [
    {
     "name": "stdout",
     "output_type": "stream",
     "text": [
      "[[-151633.92 ]\n",
      " [ -26039.305]\n",
      " [  25842.66 ]\n",
      " ...\n",
      " [  15265.049]\n",
      " [  20277.648]\n",
      " [ -18690.914]]\n"
     ]
    }
   ],
   "source": [
    "print(probability_output)"
   ]
  }
 ],
 "metadata": {
  "kernelspec": {
   "display_name": "Python 3",
   "language": "python",
   "name": "python3"
  },
  "language_info": {
   "codemirror_mode": {
    "name": "ipython",
    "version": 3
   },
   "file_extension": ".py",
   "mimetype": "text/x-python",
   "name": "python",
   "nbconvert_exporter": "python",
   "pygments_lexer": "ipython3",
   "version": "3.11.5"
  }
 },
 "nbformat": 4,
 "nbformat_minor": 2
}
