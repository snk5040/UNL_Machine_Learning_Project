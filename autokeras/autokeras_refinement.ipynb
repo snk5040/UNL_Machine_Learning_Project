{
 "cells": [
  {
   "cell_type": "code",
   "execution_count": 1,
   "metadata": {},
   "outputs": [
    {
     "name": "stdout",
     "output_type": "stream",
     "text": [
      "Using TensorFlow backend\n"
     ]
    }
   ],
   "source": [
    "import pandas as pd\n",
    "from sklearn.model_selection import train_test_split\n",
    "import tensorflow as tf\n",
    "import tensorflow.keras\n",
    "import autokeras as ak\n",
    "import numpy as np"
   ]
  },
  {
   "cell_type": "code",
   "execution_count": 2,
   "metadata": {},
   "outputs": [
    {
     "name": "stderr",
     "output_type": "stream",
     "text": [
      "2023-10-28 15:28:47.933531: I metal_plugin/src/device/metal_device.cc:1154] Metal device set to: Apple M1\n",
      "2023-10-28 15:28:47.933978: I metal_plugin/src/device/metal_device.cc:296] systemMemory: 8.00 GB\n",
      "2023-10-28 15:28:47.933991: I metal_plugin/src/device/metal_device.cc:313] maxCacheSize: 2.67 GB\n",
      "2023-10-28 15:28:47.934281: I tensorflow/core/common_runtime/pluggable_device/pluggable_device_factory.cc:306] Could not identify NUMA node of platform GPU ID 0, defaulting to 0. Your kernel may not have been built with NUMA support.\n",
      "2023-10-28 15:28:47.934833: I tensorflow/core/common_runtime/pluggable_device/pluggable_device_factory.cc:272] Created TensorFlow device (/job:localhost/replica:0/task:0/device:GPU:0 with 0 MB memory) -> physical PluggableDevice (device: 0, name: METAL, pci bus id: <undefined>)\n",
      "WARNING:absl:At this time, the v2.11+ optimizer `tf.keras.optimizers.RestoredOptimizer` runs slowly on M1/M2 Macs, please use the legacy Keras optimizer instead, located at `tf.keras.optimizers.legacy.RestoredOptimizer`.\n",
      "2023-10-28 15:29:27.887708: I tensorflow/core/grappler/optimizers/custom_graph_optimizer_registry.cc:117] Plugin optimizer for device_type GPU is enabled.\n",
      "WARNING:absl:At this time, the v2.11+ optimizer `tf.keras.optimizers.Adam` runs slowly on M1/M2 Macs, please use the legacy Keras optimizer instead, located at `tf.keras.optimizers.legacy.Adam`.\n"
     ]
    },
    {
     "name": "stdout",
     "output_type": "stream",
     "text": [
      "Model: \"model\"\n",
      "_________________________________________________________________\n",
      " Layer (type)                Output Shape              Param #   \n",
      "=================================================================\n",
      " input_1 (InputLayer)        [(None, 1776)]            0         \n",
      "                                                                 \n",
      " multi_category_encoding (M  (None, 1776)              0         \n",
      " ultiCategoryEncoding)                                           \n",
      "                                                                 \n",
      " normalization (Normalizati  (None, 1776)              3553      \n",
      " on)                                                             \n",
      "                                                                 \n",
      " dense (Dense)               (None, 32)                56864     \n",
      "                                                                 \n",
      " re_lu (ReLU)                (None, 32)                0         \n",
      "                                                                 \n",
      " dense_1 (Dense)             (None, 32)                1056      \n",
      "                                                                 \n",
      " re_lu_1 (ReLU)              (None, 32)                0         \n",
      "                                                                 \n",
      " dropout (Dropout)           (None, 32)                0         \n",
      "                                                                 \n",
      " dense_2 (Dense)             (None, 1)                 33        \n",
      "                                                                 \n",
      " classification_head_1 (Act  (None, 1)                 0         \n",
      " ivation)                                                        \n",
      "                                                                 \n",
      "=================================================================\n",
      "Total params: 61506 (240.26 KB)\n",
      "Trainable params: 57953 (226.38 KB)\n",
      "Non-trainable params: 3553 (13.88 KB)\n",
      "_________________________________________________________________\n"
     ]
    }
   ],
   "source": [
    "model = tensorflow.keras.models.load_model('./structured_data_classifier/best_model')\n",
    "model.summary()"
   ]
  },
  {
   "cell_type": "code",
   "execution_count": 8,
   "metadata": {},
   "outputs": [
    {
     "name": "stdout",
     "output_type": "stream",
     "text": [
      "Shape of Input Data: (3000, 1776)\n",
      "Shape of Test Labels: (751,)\n"
     ]
    }
   ],
   "source": [
    "# Load training dataset\n",
    "df1 = pd.read_csv('./bioresponse/train.csv')\n",
    "#df1.describe() # Visualize\n",
    "\n",
    "# Load testing dataset\n",
    "kaggle_test = pd.read_csv('./bioresponse/test.csv')\n",
    "# test.describe() # Visualize\n",
    "\n",
    "# Separate labels from training dataset for fitting\n",
    "labels = df1['Activity']\n",
    "del df1['Activity']\n",
    "\n",
    "# 80/20 train test split\n",
    "x_train, x_test, y_train, y_test = train_test_split(df1, labels, test_size=0.2)\n",
    "input_shape = x_train.shape\n",
    "print(\"Shape of Input Data: \" + str(input_shape))\n",
    "print(\"Shape of Test Labels: \" + str(y_test.shape))"
   ]
  },
  {
   "cell_type": "code",
   "execution_count": 10,
   "metadata": {},
   "outputs": [
    {
     "name": "stdout",
     "output_type": "stream",
     "text": [
      "Epoch 1/10\n",
      "94/94 [==============================] - 93s 821ms/step - loss: 27.5366 - accuracy: 0.7557 - val_loss: 15.2058 - val_accuracy: 0.7909\n",
      "Epoch 2/10\n",
      "94/94 [==============================] - 48s 506ms/step - loss: 11.2871 - accuracy: 0.8130 - val_loss: 13.3200 - val_accuracy: 0.7936\n",
      "Epoch 3/10\n",
      "94/94 [==============================] - 43s 457ms/step - loss: 7.9005 - accuracy: 0.8157 - val_loss: 9.5511 - val_accuracy: 0.8056\n",
      "Epoch 4/10\n",
      "94/94 [==============================] - 41s 432ms/step - loss: 6.0338 - accuracy: 0.8210 - val_loss: 8.4378 - val_accuracy: 0.8003\n",
      "Epoch 5/10\n",
      "94/94 [==============================] - 42s 444ms/step - loss: 5.4995 - accuracy: 0.8167 - val_loss: 8.0831 - val_accuracy: 0.8003\n",
      "Epoch 6/10\n",
      "94/94 [==============================] - 44s 461ms/step - loss: 4.7774 - accuracy: 0.8220 - val_loss: 7.8123 - val_accuracy: 0.8096\n",
      "Epoch 7/10\n",
      "94/94 [==============================] - 39s 415ms/step - loss: 4.0045 - accuracy: 0.8277 - val_loss: 7.0756 - val_accuracy: 0.8003\n",
      "Epoch 8/10\n",
      "94/94 [==============================] - 40s 419ms/step - loss: 4.0670 - accuracy: 0.8227 - val_loss: 6.7463 - val_accuracy: 0.7989\n",
      "Epoch 9/10\n",
      "94/94 [==============================] - 52s 552ms/step - loss: 3.6282 - accuracy: 0.8337 - val_loss: 6.6539 - val_accuracy: 0.8096\n",
      "Epoch 10/10\n",
      "94/94 [==============================] - 43s 453ms/step - loss: 3.2270 - accuracy: 0.8273 - val_loss: 6.7295 - val_accuracy: 0.7976\n"
     ]
    }
   ],
   "source": [
    "model.compile(\n",
    "    optimizer=\"adam\",\n",
    "    loss=tf.keras.losses.BinaryCrossentropy(),\n",
    "    metrics=[\"accuracy\"],\n",
    ")\n",
    "\n",
    "history = model.fit(\n",
    "    x_train, y_train, epochs=10, validation_data=(x_test, y_test)\n",
    ")"
   ]
  },
  {
   "cell_type": "code",
   "execution_count": null,
   "metadata": {},
   "outputs": [],
   "source": [
    "prob_output = model.predict(kaggle_test)\n",
    "print(prob_output)\n",
    "print(prob_output.shape)\n",
    "print(kaggle_test.shape)\n",
    "np.savetxt(\"my_data.csv\", prob_output, delimiter=\",\")"
   ]
  }
 ],
 "metadata": {
  "kernelspec": {
   "display_name": "Python 3",
   "language": "python",
   "name": "python3"
  },
  "language_info": {
   "codemirror_mode": {
    "name": "ipython",
    "version": 3
   },
   "file_extension": ".py",
   "mimetype": "text/x-python",
   "name": "python",
   "nbconvert_exporter": "python",
   "pygments_lexer": "ipython3",
   "version": "3.10.4"
  }
 },
 "nbformat": 4,
 "nbformat_minor": 2
}
