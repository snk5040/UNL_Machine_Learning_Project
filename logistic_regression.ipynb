{
 "cells": [
  {
   "cell_type": "code",
   "execution_count": 1,
   "metadata": {},
   "outputs": [],
   "source": [
    "import pandas as pd\n",
    "import sklearn.linear_model\n",
    "from sklearn.model_selection import train_test_split\n",
    "import matplotlib.pyplot as plt\n",
    "from sklearn.metrics import log_loss, accuracy_score, confusion_matrix\n",
    "import seaborn as sns\n",
    "import matplotlib.pyplot as plt "
   ]
  },
  {
   "cell_type": "code",
   "execution_count": 2,
   "metadata": {},
   "outputs": [],
   "source": [
    "# Load training dataset\n",
    "df1 = pd.read_csv('./bioresponse/train.csv')\n",
    "#df1.head() # Visualize\n",
    "#df1['D1'].plot() # Visualize\n",
    "#df1['D2'].plot() # Visualize\n",
    "df1.describe() # Visualize\n",
    "\n",
    "# Load testing dataset\n",
    "test = pd.read_csv('./bioresponse/test.csv')\n",
    "# test.describe() # Visualize\n",
    "\n",
    "# Separate labels from training dataset for fitting\n",
    "labels = df1['Activity']\n",
    "del df1['Activity']"
   ]
  },
  {
   "cell_type": "code",
   "execution_count": 3,
   "metadata": {},
   "outputs": [
    {
     "data": {
      "text/html": [
       "<div>\n",
       "<style scoped>\n",
       "    .dataframe tbody tr th:only-of-type {\n",
       "        vertical-align: middle;\n",
       "    }\n",
       "\n",
       "    .dataframe tbody tr th {\n",
       "        vertical-align: top;\n",
       "    }\n",
       "\n",
       "    .dataframe thead th {\n",
       "        text-align: right;\n",
       "    }\n",
       "</style>\n",
       "<table border=\"1\" class=\"dataframe\">\n",
       "  <thead>\n",
       "    <tr style=\"text-align: right;\">\n",
       "      <th></th>\n",
       "      <th>PredictedProbability</th>\n",
       "      <th>MoleculeId</th>\n",
       "    </tr>\n",
       "  </thead>\n",
       "  <tbody>\n",
       "    <tr>\n",
       "      <th>count</th>\n",
       "      <td>2501.000000</td>\n",
       "      <td>2501.000000</td>\n",
       "    </tr>\n",
       "    <tr>\n",
       "      <th>mean</th>\n",
       "      <td>0.556739</td>\n",
       "      <td>1251.000000</td>\n",
       "    </tr>\n",
       "    <tr>\n",
       "      <th>std</th>\n",
       "      <td>0.355321</td>\n",
       "      <td>722.120835</td>\n",
       "    </tr>\n",
       "    <tr>\n",
       "      <th>min</th>\n",
       "      <td>0.000003</td>\n",
       "      <td>1.000000</td>\n",
       "    </tr>\n",
       "    <tr>\n",
       "      <th>25%</th>\n",
       "      <td>0.181918</td>\n",
       "      <td>626.000000</td>\n",
       "    </tr>\n",
       "    <tr>\n",
       "      <th>50%</th>\n",
       "      <td>0.639883</td>\n",
       "      <td>1251.000000</td>\n",
       "    </tr>\n",
       "    <tr>\n",
       "      <th>75%</th>\n",
       "      <td>0.902851</td>\n",
       "      <td>1876.000000</td>\n",
       "    </tr>\n",
       "    <tr>\n",
       "      <th>max</th>\n",
       "      <td>1.000000</td>\n",
       "      <td>2501.000000</td>\n",
       "    </tr>\n",
       "  </tbody>\n",
       "</table>\n",
       "</div>"
      ],
      "text/plain": [
       "       PredictedProbability   MoleculeId\n",
       "count           2501.000000  2501.000000\n",
       "mean               0.556739  1251.000000\n",
       "std                0.355321   722.120835\n",
       "min                0.000003     1.000000\n",
       "25%                0.181918   626.000000\n",
       "50%                0.639883  1251.000000\n",
       "75%                0.902851  1876.000000\n",
       "max                1.000000  2501.000000"
      ]
     },
     "execution_count": 3,
     "metadata": {},
     "output_type": "execute_result"
    }
   ],
   "source": [
    "# Fit a Logistic regression classifier\n",
    "clf = sklearn.linear_model.LogisticRegression(max_iter=1000)\n",
    "clf.fit(df1, labels)\n",
    "nparr= clf.predict_proba(test)\n",
    "\n",
    "# Predict with test set with classifier, format for Kaggle\n",
    "submission = pd.DataFrame(nparr[:,1], columns = ['PredictedProbability'])\n",
    "submission['MoleculeId'] = submission.index + 1\n",
    "submission.describe()\n",
    "#submission.to_csv('submission.csv',index = False)"
   ]
  },
  {
   "cell_type": "markdown",
   "metadata": {},
   "source": [
    "## Kaggle Submission 1\n",
    "\n",
    "First submission had a log loss score of 0.493 on leaderboard."
   ]
  },
  {
   "cell_type": "code",
   "execution_count": 6,
   "metadata": {},
   "outputs": [],
   "source": [
    "# 80/20 train test split\n",
    "x_train, x_test, y_train, y_test = train_test_split(df1, labels, test_size=0.2)\n",
    "\n",
    "# Fit a Logistic regression classifier\n",
    "clf2 = sklearn.linear_model.LogisticRegression(max_iter=1000)\n",
    "clf2.fit(x_train, y_train)\n",
    "probs = clf2.predict_proba(x_test)\n",
    "preds = clf2.predict(x_test)"
   ]
  },
  {
   "cell_type": "code",
   "execution_count": 7,
   "metadata": {},
   "outputs": [
    {
     "name": "stdout",
     "output_type": "stream",
     "text": [
      "Accuracy on internal test set:  0.7563249001331558\n"
     ]
    },
    {
     "data": {
      "image/png": "[encoded data removed]",
      "text/plain": [
       "<Figure size 640x480 with 2 Axes>"
      ]
     },
     "metadata": {},
     "output_type": "display_data"
    }
   ],
   "source": [
    "# Predict on internal test set\n",
    "acc = accuracy_score(y_test, preds)\n",
    "cm = confusion_matrix(y_test, preds)\n",
    "print(\"Accuracy on internal test set: \",acc)\n",
    "\n",
    "#Plot the confusion matrix.\n",
    "sns.heatmap(cm, \n",
    "            annot=True,\n",
    "            fmt='g', \n",
    "            xticklabels=['Positive','Negative'],\n",
    "            yticklabels=['Positive','Negative'])\n",
    "plt.ylabel('Prediction',fontsize=13)\n",
    "plt.xlabel('Actual',fontsize=13)\n",
    "plt.title('Confusion Matrix',fontsize=17)\n",
    "plt.show()"
   ]
  }
 ],
 "metadata": {
  "kernelspec": {
   "display_name": "Python 3",
   "language": "python",
   "name": "python3"
  },
  "language_info": {
   "codemirror_mode": {
    "name": "ipython",
    "version": 3
   },
   "file_extension": ".py",
   "mimetype": "text/x-python",
   "name": "python",
   "nbconvert_exporter": "python",
   "pygments_lexer": "ipython3",
   "version": "3.10.4"
  },
  "orig_nbformat": 4,
  "vscode": {
   "interpreter": {
    "hash": "aee8b7b246df8f9039afb4144a1f6fd8d2ca17a180786b69acc140d282b71a49"
   }
  }
 },
 "nbformat": 4,
 "nbformat_minor": 2
}
